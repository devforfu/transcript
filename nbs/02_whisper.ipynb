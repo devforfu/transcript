{
 "cells": [
  {
   "cell_type": "code",
   "execution_count": null,
   "id": "3074176f-5f60-4486-abb9-598573cba527",
   "metadata": {},
   "outputs": [],
   "source": [
    "%cd .."
   ]
  },
  {
   "cell_type": "code",
   "execution_count": null,
   "id": "4de861ac-4720-4670-a0ff-617699d25b6f",
   "metadata": {},
   "outputs": [],
   "source": [
    "import os, sys\n",
    "sys.path.insert(0, f\"{os.getcwd()}/whisper\")"
   ]
  },
  {
   "cell_type": "code",
   "execution_count": null,
   "id": "eed4e204-e63a-4da5-9cb6-9e4fd5c5ecab",
   "metadata": {},
   "outputs": [],
   "source": [
    "from pathlib import Path\n",
    "import whisper"
   ]
  },
  {
   "cell_type": "code",
   "execution_count": null,
   "id": "5a2d2de1-5f5d-4a13-a485-d7e8a27d7b6b",
   "metadata": {},
   "outputs": [],
   "source": [
    "whisper.available_models()"
   ]
  },
  {
   "cell_type": "code",
   "execution_count": null,
   "id": "cb1db564-7ccc-4d3e-8fc8-21f06412f44b",
   "metadata": {},
   "outputs": [],
   "source": [
    "model = whisper.load_model(\"tiny.en\")"
   ]
  },
  {
   "cell_type": "code",
   "execution_count": null,
   "id": "393ec6f8-3b2a-4aad-82e9-16b112fa52f7",
   "metadata": {},
   "outputs": [],
   "source": [
    "dirname = \"/mnt/fast/data/lectures\""
   ]
  },
  {
   "cell_type": "code",
   "execution_count": null,
   "id": "5ba960ce-4467-4bb1-a294-723441332bf5",
   "metadata": {},
   "outputs": [],
   "source": [
    "paths = [path for path in Path(dirname).glob(\"*.mp4\")]"
   ]
  },
  {
   "cell_type": "code",
   "execution_count": null,
   "id": "31fc9ab6-807d-43c1-b11f-ba71ac0b7c82",
   "metadata": {},
   "outputs": [],
   "source": [
    "def probe(path: Path) -> float:\n",
    "    [value] = !ffprobe -i \"{path}\" -show_entries format=duration -v quiet -of csv=\"p=0\"\n",
    "    return float(value)"
   ]
  },
  {
   "cell_type": "code",
   "execution_count": null,
   "id": "46ca881d-40d7-4fca-902d-76de719b90d8",
   "metadata": {},
   "outputs": [],
   "source": [
    "stem_to_path = {path.stem: path for path in paths}"
   ]
  },
  {
   "cell_type": "code",
   "execution_count": null,
   "id": "d3432d57-42f6-478c-a21b-e108ad021815",
   "metadata": {},
   "outputs": [],
   "source": [
    "durations = {path.stem: probe(path) for path in paths}"
   ]
  },
  {
   "cell_type": "code",
   "execution_count": null,
   "id": "746d9b9b-32cb-44bc-ba71-c33eb333d11a",
   "metadata": {},
   "outputs": [],
   "source": [
    "import json\n",
    "with open(\"data/durations.json\", \"w\") as fp:\n",
    "    json.dump(durations, fp)"
   ]
  },
  {
   "cell_type": "code",
   "execution_count": null,
   "id": "fdf29af9-85b4-49de-87a1-9e8637b43a12",
   "metadata": {},
   "outputs": [],
   "source": [
    "titles = list(durations)"
   ]
  },
  {
   "cell_type": "code",
   "execution_count": null,
   "id": "af97b0ef-240b-43dc-87b6-a1892b29eaa4",
   "metadata": {},
   "outputs": [],
   "source": [
    "from operator import itemgetter\n",
    "shortest, _ = min(durations.items(), key=itemgetter(1))"
   ]
  },
  {
   "cell_type": "code",
   "execution_count": null,
   "id": "c59de920-71c4-4734-bd68-8b1430aff802",
   "metadata": {},
   "outputs": [],
   "source": [
    "audio = whisper.load_audio(stem_to_path[shortest])"
   ]
  },
  {
   "cell_type": "code",
   "execution_count": null,
   "id": "21fbff09-87a9-4f5f-80df-7eb6eb766e15",
   "metadata": {},
   "outputs": [],
   "source": [
    "audio.shape"
   ]
  },
  {
   "cell_type": "code",
   "execution_count": null,
   "id": "a2eb93ee-28ac-4a15-a481-47f10b0634e7",
   "metadata": {},
   "outputs": [],
   "source": [
    "sample = whisper.pad_or_trim(audio)"
   ]
  },
  {
   "cell_type": "code",
   "execution_count": null,
   "id": "b7ed9299-5199-4c29-919d-dc70eadb3dc0",
   "metadata": {},
   "outputs": [],
   "source": [
    "mel = whisper.log_mel_spectrogram(sample).to(model.device)"
   ]
  },
  {
   "cell_type": "code",
   "execution_count": null,
   "id": "9f42a111-c0af-42b6-aa98-933214036931",
   "metadata": {},
   "outputs": [],
   "source": [
    "# _, probs = model.detect_language(mel)"
   ]
  },
  {
   "cell_type": "code",
   "execution_count": null,
   "id": "7d8f2774-639e-43f6-8c3f-8451bb97f384",
   "metadata": {},
   "outputs": [],
   "source": [
    "result = whisper.decode(model, mel, whisper.DecodingOptions(language=\"en\"))"
   ]
  },
  {
   "cell_type": "code",
   "execution_count": null,
   "id": "039f60c3-ff42-4324-8774-500ff180fa8c",
   "metadata": {},
   "outputs": [],
   "source": [
    "result.text"
   ]
  },
  {
   "cell_type": "code",
   "execution_count": null,
   "id": "97c4a46f-afda-4881-b65e-4d0431c624a6",
   "metadata": {},
   "outputs": [],
   "source": [
    "model.transcribe??"
   ]
  },
  {
   "cell_type": "code",
   "execution_count": null,
   "id": "56b4a767-2731-42b6-b308-e5a77b5b30ce",
   "metadata": {},
   "outputs": [],
   "source": []
  }
 ],
 "metadata": {
  "kernelspec": {
   "display_name": "Python 3 (ipykernel)",
   "language": "python",
   "name": "python3"
  },
  "language_info": {
   "codemirror_mode": {
    "name": "ipython",
    "version": 3
   },
   "file_extension": ".py",
   "mimetype": "text/x-python",
   "name": "python",
   "nbconvert_exporter": "python",
   "pygments_lexer": "ipython3",
   "version": "3.9.5"
  }
 },
 "nbformat": 4,
 "nbformat_minor": 5
}
