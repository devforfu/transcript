{
 "cells": [
  {
   "cell_type": "code",
   "execution_count": null,
   "id": "99cc95a3-aa6a-4987-9c23-e927dce4b989",
   "metadata": {},
   "outputs": [],
   "source": [
    "%cd .."
   ]
  },
  {
   "cell_type": "code",
   "execution_count": null,
   "id": "83212e5c-6736-4207-b351-5593dcdbc3f6",
   "metadata": {},
   "outputs": [],
   "source": [
    "from pathlib import Path\n",
    "from pytube import Playlist, YouTube"
   ]
  },
  {
   "cell_type": "code",
   "execution_count": null,
   "id": "018c437d-0147-4f05-b900-19ef8b77663c",
   "metadata": {},
   "outputs": [],
   "source": [
    "url = Path(\"data/fastai2022.txt\").read_text().strip()"
   ]
  },
  {
   "cell_type": "code",
   "execution_count": null,
   "id": "1f887fa0-9eee-4b80-9804-8d4f3180f781",
   "metadata": {},
   "outputs": [],
   "source": [
    "url"
   ]
  },
  {
   "cell_type": "code",
   "execution_count": null,
   "id": "eb04cd3c-557b-4bd3-9168-ae445f73ad1c",
   "metadata": {},
   "outputs": [],
   "source": [
    "links = list(Playlist(url))"
   ]
  },
  {
   "cell_type": "code",
   "execution_count": null,
   "id": "3de282a4-2dee-4c70-93a0-6763db320721",
   "metadata": {},
   "outputs": [],
   "source": [
    "lesson = YouTube(links[0])"
   ]
  },
  {
   "cell_type": "code",
   "execution_count": null,
   "id": "a92a9800-7958-4d25-937f-dabc29e03e3d",
   "metadata": {},
   "outputs": [],
   "source": [
    "for stream in lesson.streams: print(stream)"
   ]
  },
  {
   "cell_type": "code",
   "execution_count": null,
   "id": "195d1385-74fa-4275-a115-a81e739a5fc9",
   "metadata": {},
   "outputs": [],
   "source": [
    "lesson.streams.filter(mime_type=\"audio/mp4\").asc().first()"
   ]
  },
  {
   "cell_type": "code",
   "execution_count": null,
   "id": "2222231b-7109-45df-aaaa-cd674532d2cb",
   "metadata": {},
   "outputs": [],
   "source": [
    "stream.title"
   ]
  },
  {
   "cell_type": "code",
   "execution_count": null,
   "id": "395b4f3f-6ba4-4d09-abb1-c35c5f6c85f2",
   "metadata": {},
   "outputs": [],
   "source": [
    "stream.download(output_path=\"data\")"
   ]
  },
  {
   "cell_type": "code",
   "execution_count": null,
   "id": "57e94007-b6fd-49b0-adc3-2bdd9cf93895",
   "metadata": {},
   "outputs": [],
   "source": [
    "!ls data"
   ]
  },
  {
   "cell_type": "code",
   "execution_count": null,
   "id": "3c25a1b0-e832-410b-bae1-f40632d9d0ce",
   "metadata": {},
   "outputs": [],
   "source": [
    "paths = [path for path in Path(\"data\").iterdir() if path.suffix == \".mp4\"]"
   ]
  },
  {
   "cell_type": "code",
   "execution_count": null,
   "id": "1fe6aaab-a1b9-4c22-860b-607428099733",
   "metadata": {},
   "outputs": [],
   "source": [
    "paths"
   ]
  },
  {
   "cell_type": "code",
   "execution_count": null,
   "id": "7b9d82a6-cb0b-4282-aa49-b60ca98c572f",
   "metadata": {},
   "outputs": [],
   "source": [
    "Audio(paths[0])"
   ]
  }
 ],
 "metadata": {
  "kernelspec": {
   "display_name": "Python 3 (ipykernel)",
   "language": "python",
   "name": "python3"
  },
  "language_info": {
   "codemirror_mode": {
    "name": "ipython",
    "version": 3
   },
   "file_extension": ".py",
   "mimetype": "text/x-python",
   "name": "python",
   "nbconvert_exporter": "python",
   "pygments_lexer": "ipython3",
   "version": "3.9.5"
  }
 },
 "nbformat": 4,
 "nbformat_minor": 5
}
