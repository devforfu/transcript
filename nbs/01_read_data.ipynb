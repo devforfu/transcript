{
 "cells": [
  {
   "cell_type": "code",
   "execution_count": null,
   "id": "99cc95a3-aa6a-4987-9c23-e927dce4b989",
   "metadata": {},
   "outputs": [],
   "source": [
    "%cd .."
   ]
  },
  {
   "cell_type": "code",
   "execution_count": null,
   "id": "83212e5c-6736-4207-b351-5593dcdbc3f6",
   "metadata": {},
   "outputs": [],
   "source": [
    "import json\n",
    "from pytube import Channel, Playlist, YouTube\n",
    "from tqdm import tqdm"
   ]
  },
  {
   "cell_type": "markdown",
   "id": "96787a8f-fd8c-42ea-8dac-bd6ec7869aae",
   "metadata": {},
   "source": [
    "# Reading links from the channel"
   ]
  },
  {
   "cell_type": "code",
   "execution_count": null,
   "id": "72fc775e-ae7c-4e4e-96fa-c48b44cf0b84",
   "metadata": {},
   "outputs": [],
   "source": [
    "with open(\"data/urls.json\") as fp:\n",
    "    urls = json.load(fp)"
   ]
  },
  {
   "cell_type": "code",
   "execution_count": null,
   "id": "9ecd56c6-8d95-4e6c-953a-4aa5017dc763",
   "metadata": {},
   "outputs": [],
   "source": [
    "channel = Channel(urls[\"all\"])"
   ]
  },
  {
   "cell_type": "code",
   "execution_count": null,
   "id": "4d57d279-1d85-48e7-b3ea-25f08d7952ea",
   "metadata": {},
   "outputs": [],
   "source": [
    "videos = {YouTube(link).title: link for link in tqdm(channel)}"
   ]
  },
  {
   "cell_type": "code",
   "execution_count": null,
   "id": "d69a9817-d10d-4b9b-827e-be1cf3f32378",
   "metadata": {},
   "outputs": [],
   "source": [
    "videos"
   ]
  },
  {
   "cell_type": "code",
   "execution_count": null,
   "id": "49ea781d-821f-46a8-a58b-be18c86920db",
   "metadata": {},
   "outputs": [],
   "source": [
    "with open(\"data/videos.json\", \"w\") as fp:\n",
    "    json.dump(videos, fp)"
   ]
  },
  {
   "cell_type": "markdown",
   "id": "a94532cc-fdd0-4598-a0d7-e9dcd3587dcd",
   "metadata": {},
   "source": [
    "# Getting captures"
   ]
  },
  {
   "cell_type": "code",
   "execution_count": null,
   "id": "11739b57-65f1-41ab-8479-6a8676f7196b",
   "metadata": {},
   "outputs": [],
   "source": [
    "with open(\"data/videos.json\") as fp:\n",
    "    videos = json.load(fp)"
   ]
  },
  {
   "cell_type": "code",
   "execution_count": null,
   "id": "442ae93a-45d6-474c-9c33-2ea157cc9492",
   "metadata": {},
   "outputs": [],
   "source": [
    "example = \"Lesson 1: Practical Deep Learning for Coders 2022\""
   ]
  },
  {
   "cell_type": "code",
   "execution_count": null,
   "id": "3f90d4c4-b3f2-4020-9546-ac3694dd2ef8",
   "metadata": {},
   "outputs": [],
   "source": [
    "example = list(videos)[121]"
   ]
  },
  {
   "cell_type": "code",
   "execution_count": null,
   "id": "13f4e40e-5c49-47e8-899d-f63b543f760b",
   "metadata": {},
   "outputs": [],
   "source": [
    "example"
   ]
  },
  {
   "cell_type": "code",
   "execution_count": null,
   "id": "acc9f0c3-32fc-437b-9231-c30834a78e47",
   "metadata": {},
   "outputs": [],
   "source": [
    "video = YouTube(videos[example])"
   ]
  },
  {
   "cell_type": "code",
   "execution_count": null,
   "id": "4affbda9-24ca-4895-8e00-ebbd9113a2fe",
   "metadata": {},
   "outputs": [],
   "source": [
    "video"
   ]
  },
  {
   "cell_type": "code",
   "execution_count": null,
   "id": "2f223b53-8e09-4c2f-8558-4ec18c340a3a",
   "metadata": {},
   "outputs": [],
   "source": [
    "video.captions"
   ]
  },
  {
   "cell_type": "code",
   "execution_count": null,
   "id": "9e4520e8-ff44-4b19-aef5-b08ecc423bb6",
   "metadata": {},
   "outputs": [],
   "source": [
    "caption = video.captions.get(\"en\", None)"
   ]
  },
  {
   "cell_type": "code",
   "execution_count": null,
   "id": "28bf0494-1525-4e34-b527-5f8442ea0115",
   "metadata": {},
   "outputs": [],
   "source": [
    "from xml.etree import ElementTree"
   ]
  },
  {
   "cell_type": "code",
   "execution_count": null,
   "id": "c0246eec-7252-4c9b-9af7-133ae711021b",
   "metadata": {},
   "outputs": [],
   "source": [
    "import io\n",
    "tree = ElementTree.parse(io.StringIO(caption.xml_captions)).getroot()"
   ]
  },
  {
   "cell_type": "code",
   "execution_count": null,
   "id": "0c8b4abb-c6ff-4c65-bf8e-75ffbce8c2e4",
   "metadata": {},
   "outputs": [],
   "source": [
    "[el.attrib for el in tree.findall(\"body/p\")[:5]]"
   ]
  },
  {
   "cell_type": "code",
   "execution_count": null,
   "id": "ddb57760-8548-4353-ba3f-599221da408d",
   "metadata": {},
   "outputs": [],
   "source": [
    "tree.findall(\"body/p\")[0].text"
   ]
  },
  {
   "cell_type": "code",
   "execution_count": null,
   "id": "322375e5-87cb-48f5-8cff-278ed7355cdb",
   "metadata": {},
   "outputs": [],
   "source": [
    "print(caption.xml_captions)"
   ]
  },
  {
   "cell_type": "markdown",
   "id": "52483d08-a78d-4565-bbad-7e8118a1533f",
   "metadata": {},
   "source": [
    "# Downloading audio"
   ]
  },
  {
   "cell_type": "code",
   "execution_count": null,
   "id": "a92a9800-7958-4d25-937f-dabc29e03e3d",
   "metadata": {},
   "outputs": [],
   "source": [
    "for stream in video.streams: print(stream)"
   ]
  },
  {
   "cell_type": "code",
   "execution_count": null,
   "id": "a365d3cb-3688-42e7-9db4-d989e0bb3cb9",
   "metadata": {},
   "outputs": [],
   "source": [
    "audios = video.streams.filter(mime_type=\"audio/mp4\").desc()\n",
    "for audio in audios: print(audio)"
   ]
  },
  {
   "cell_type": "code",
   "execution_count": null,
   "id": "195d1385-74fa-4275-a115-a81e739a5fc9",
   "metadata": {},
   "outputs": [],
   "source": [
    "stream = audios.first()\n",
    "stream"
   ]
  },
  {
   "cell_type": "code",
   "execution_count": null,
   "id": "2222231b-7109-45df-aaaa-cd674532d2cb",
   "metadata": {},
   "outputs": [],
   "source": [
    "stream.title"
   ]
  },
  {
   "cell_type": "code",
   "execution_count": null,
   "id": "395b4f3f-6ba4-4d09-abb1-c35c5f6c85f2",
   "metadata": {},
   "outputs": [],
   "source": [
    "stream.download(output_path=\"data\")"
   ]
  },
  {
   "cell_type": "code",
   "execution_count": null,
   "id": "57e94007-b6fd-49b0-adc3-2bdd9cf93895",
   "metadata": {},
   "outputs": [],
   "source": [
    "!ls data"
   ]
  },
  {
   "cell_type": "code",
   "execution_count": null,
   "id": "3c25a1b0-e832-410b-bae1-f40632d9d0ce",
   "metadata": {},
   "outputs": [],
   "source": [
    "from pathlib import Path\n",
    "paths = [path for path in Path(\"data\").iterdir() if path.suffix == \".mp4\"]\n",
    "paths"
   ]
  },
  {
   "cell_type": "code",
   "execution_count": null,
   "id": "7b9d82a6-cb0b-4282-aa49-b60ca98c572f",
   "metadata": {},
   "outputs": [],
   "source": [
    "from IPython.display import Audio\n",
    "Audio(paths[0])"
   ]
  }
 ],
 "metadata": {
  "kernelspec": {
   "display_name": "Python 3 (ipykernel)",
   "language": "python",
   "name": "python3"
  },
  "language_info": {
   "codemirror_mode": {
    "name": "ipython",
    "version": 3
   },
   "file_extension": ".py",
   "mimetype": "text/x-python",
   "name": "python",
   "nbconvert_exporter": "python",
   "pygments_lexer": "ipython3",
   "version": "3.9.5"
  }
 },
 "nbformat": 4,
 "nbformat_minor": 5
}
