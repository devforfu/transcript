{
 "cells": [
  {
   "cell_type": "code",
   "execution_count": null,
   "id": "b76a96e3-9225-4f4b-aafa-305b54130ad1",
   "metadata": {},
   "outputs": [],
   "source": [
    "%cd .."
   ]
  },
  {
   "cell_type": "code",
   "execution_count": null,
   "id": "c8a04c77-2f8a-4371-9a30-cc3b41dcd75d",
   "metadata": {},
   "outputs": [],
   "source": [
    "# !pip install -U sentence-transformers"
   ]
  },
  {
   "cell_type": "code",
   "execution_count": null,
   "id": "b345311d-271c-4506-a301-0fa67aa3255b",
   "metadata": {},
   "outputs": [],
   "source": [
    "import json\n",
    "from pathlib import Path\n",
    "from sentence_transformers import SentenceTransformer, util"
   ]
  },
  {
   "cell_type": "code",
   "execution_count": null,
   "id": "b876d46a-befc-4589-b9d1-ea059ef5c017",
   "metadata": {},
   "outputs": [],
   "source": [
    "def read_text(fn: Path) -> dict:\n",
    "    return json.loads(fn.read_text())"
   ]
  },
  {
   "cell_type": "code",
   "execution_count": null,
   "id": "775e9c71-b374-48d7-96d2-1d2cc3f1b226",
   "metadata": {},
   "outputs": [],
   "source": [
    "model = SentenceTransformer(\"all-MiniLM-L6-v2\")"
   ]
  },
  {
   "cell_type": "code",
   "execution_count": null,
   "id": "1ec57246-b51a-4b2e-976e-99be91e9226e",
   "metadata": {},
   "outputs": [],
   "source": [
    "texts_dir = Path(\"/mnt/fast/data/texts/small_en\")\n",
    "lecture = \"AWS Deep Learning setup\"\n",
    "texts = read_text(texts_dir/f\"{lecture}.json\")"
   ]
  },
  {
   "cell_type": "code",
   "execution_count": null,
   "id": "6b05f531-7f40-4f04-96cc-0c7a649f3ec2",
   "metadata": {},
   "outputs": [],
   "source": [
    "import unicodedata\n",
    "import pandas as pd\n",
    "\n",
    "root = Path(\"/mnt/fast/data/texts\")\n",
    "\n",
    "model_names = \"base_en\", \"small_en\"\n",
    "\n",
    "dfs = []\n",
    "\n",
    "for name in model_names:\n",
    "    texts_dir = root/name\n",
    "    results = []\n",
    "    for fn in texts_dir.iterdir():\n",
    "        r = read_text(fn)\n",
    "        results.append({\"title\": r[\"title\"], \"text\": unicodedata.normalize(\"NFKD\", r[\"ref\"]), \"name\": \"manual\"})\n",
    "        results.append({\"title\": r[\"title\"], \"text\": unicodedata.normalize(\"NFKD\", r[\"new\"]), \"name\": name})\n",
    "    df = pd.DataFrame(results)\n",
    "    dfs.append(df)"
   ]
  },
  {
   "cell_type": "code",
   "execution_count": null,
   "id": "19f99202-c022-4588-8174-8ccbe02a7306",
   "metadata": {},
   "outputs": [],
   "source": [
    "texts = pd.concat(dfs).drop_duplicates(subset=[\"title\", \"name\"])\n",
    "texts = texts.pivot(columns=[\"name\"], index=\"title\")\n",
    "texts.columns = texts.columns.droplevel()\n",
    "texts = texts.reset_index()\n",
    "texts.head(5)"
   ]
  },
  {
   "cell_type": "code",
   "execution_count": null,
   "id": "9e567115-705c-4eb8-8a21-5f2f30286576",
   "metadata": {},
   "outputs": [],
   "source": [
    "rec = texts.iloc[1]\n",
    "rec"
   ]
  },
  {
   "cell_type": "code",
   "execution_count": null,
   "id": "e337e160-6d0a-4219-a2ea-72357118b6fd",
   "metadata": {},
   "outputs": [],
   "source": [
    "rec.base_en[:2000]"
   ]
  },
  {
   "cell_type": "code",
   "execution_count": null,
   "id": "99b3fe57-0f53-4b8d-912f-3a29d5b72faa",
   "metadata": {},
   "outputs": [],
   "source": [
    "rec.manual[:2000]"
   ]
  }
 ],
 "metadata": {
  "kernelspec": {
   "display_name": "Python 3 (ipykernel)",
   "language": "python",
   "name": "python3"
  },
  "language_info": {
   "codemirror_mode": {
    "name": "ipython",
    "version": 3
   },
   "file_extension": ".py",
   "mimetype": "text/x-python",
   "name": "python",
   "nbconvert_exporter": "python",
   "pygments_lexer": "ipython3",
   "version": "3.9.5"
  }
 },
 "nbformat": 4,
 "nbformat_minor": 5
}
