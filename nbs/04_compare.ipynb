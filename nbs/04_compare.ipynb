{
 "cells": [
  {
   "cell_type": "code",
   "execution_count": null,
   "id": "b76a96e3-9225-4f4b-aafa-305b54130ad1",
   "metadata": {},
   "outputs": [],
   "source": [
    "%cd .."
   ]
  },
  {
   "cell_type": "code",
   "execution_count": null,
   "id": "cbb46d6e-0940-4032-bb81-3991d4b092c1",
   "metadata": {},
   "outputs": [],
   "source": [
    "from pathlib import Path\n",
    "import pandas as pd"
   ]
  },
  {
   "cell_type": "code",
   "execution_count": null,
   "id": "d6e653f4-8e6f-4fa9-ae85-e4295e450b92",
   "metadata": {},
   "outputs": [],
   "source": [
    "root = Path(\"/mnt/fast/data\")"
   ]
  },
  {
   "cell_type": "code",
   "execution_count": null,
   "id": "56557efa-ed59-4047-88fe-cd4bda8d9d31",
   "metadata": {},
   "outputs": [],
   "source": [
    "texts = pd.read_csv(root/\"lectures.csv\")"
   ]
  },
  {
   "cell_type": "code",
   "execution_count": null,
   "id": "fd296242-3f48-4b8d-85bf-958941c6fedf",
   "metadata": {},
   "outputs": [],
   "source": [
    "texts.head()"
   ]
  },
  {
   "cell_type": "code",
   "execution_count": null,
   "id": "31e8f238-7c09-48fd-8ce9-c95c78f047e2",
   "metadata": {},
   "outputs": [],
   "source": [
    "import jiwer\n",
    "from whisper.normalizers import EnglishTextNormalizer\n",
    "norm = EnglishTextNormalizer()"
   ]
  },
  {
   "cell_type": "code",
   "execution_count": null,
   "id": "0d57d458-cc28-43f4-a5f8-e9af1178044f",
   "metadata": {},
   "outputs": [],
   "source": [
    "ref = texts[\"ref\"].map(norm)\n",
    "tiny = texts[\"tiny_en\"].map(norm)\n",
    "base = texts[\"base_en\"].map(norm)\n",
    "small = texts[\"small_en\"].map(norm)\n",
    "medium = texts[\"medium_en\"].map(norm)"
   ]
  },
  {
   "cell_type": "code",
   "execution_count": null,
   "id": "d1ec0eb3-3561-4d1e-8122-478f06f847b6",
   "metadata": {},
   "outputs": [],
   "source": [
    "for hyp in (tiny, base, small, medium):\n",
    "    wer = jiwer.wer(ref.tolist(), hyp.tolist())\n",
    "    print(f\"WER: {wer:2.2%}\")"
   ]
  },
  {
   "cell_type": "code",
   "execution_count": null,
   "id": "d8fd1083-ee70-40ad-9b2e-52734f7b5606",
   "metadata": {},
   "outputs": [],
   "source": []
  }
 ],
 "metadata": {
  "kernelspec": {
   "display_name": "Python 3 (ipykernel)",
   "language": "python",
   "name": "python3"
  },
  "language_info": {
   "codemirror_mode": {
    "name": "ipython",
    "version": 3
   },
   "file_extension": ".py",
   "mimetype": "text/x-python",
   "name": "python",
   "nbconvert_exporter": "python",
   "pygments_lexer": "ipython3",
   "version": "3.9.5"
  }
 },
 "nbformat": 4,
 "nbformat_minor": 5
}
