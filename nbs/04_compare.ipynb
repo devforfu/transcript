{
 "cells": [
  {
   "cell_type": "code",
   "execution_count": null,
   "id": "b76a96e3-9225-4f4b-aafa-305b54130ad1",
   "metadata": {},
   "outputs": [],
   "source": [
    "%cd .."
   ]
  },
  {
   "cell_type": "code",
   "execution_count": null,
   "id": "cbb46d6e-0940-4032-bb81-3991d4b092c1",
   "metadata": {},
   "outputs": [],
   "source": [
    "from pathlib import Path\n",
    "import pandas as pd"
   ]
  },
  {
   "cell_type": "code",
   "execution_count": null,
   "id": "d6e653f4-8e6f-4fa9-ae85-e4295e450b92",
   "metadata": {},
   "outputs": [],
   "source": [
    "root = Path(\"/mnt/fast/data\")"
   ]
  }
 ],
 "metadata": {
  "kernelspec": {
   "display_name": "Python 3 (ipykernel)",
   "language": "python",
   "name": "python3"
  },
  "language_info": {
   "codemirror_mode": {
    "name": "ipython",
    "version": 3
   },
   "file_extension": ".py",
   "mimetype": "text/x-python",
   "name": "python",
   "nbconvert_exporter": "python",
   "pygments_lexer": "ipython3",
   "version": "3.9.5"
  }
 },
 "nbformat": 4,
 "nbformat_minor": 5
}
