{
 "cells": [
  {
   "cell_type": "code",
   "execution_count": null,
   "id": "41cbebd0-f981-48c4-986f-d4a866d3c8d3",
   "metadata": {},
   "outputs": [],
   "source": [
    "%cd .."
   ]
  },
  {
   "cell_type": "code",
   "execution_count": null,
   "id": "53e1ba39-f092-4d0a-94f2-0930524826e4",
   "metadata": {},
   "outputs": [],
   "source": [
    "import difflib\n",
    "import io\n",
    "import json\n",
    "from dataclasses import dataclass, field\n",
    "from pathlib import Path\n",
    "from xml.etree import ElementTree"
   ]
  },
  {
   "cell_type": "code",
   "execution_count": null,
   "id": "8dbcf06a-7ee2-4376-80e4-1bb40fff975c",
   "metadata": {},
   "outputs": [],
   "source": [
    "def get_files(dirname: Path, extension: str):\n",
    "    return {path.stem: path for path in dirname.glob(f\"*.{extension}\")}"
   ]
  },
  {
   "cell_type": "code",
   "execution_count": null,
   "id": "7d94578f-e593-4be8-a617-8a7fbac094fe",
   "metadata": {},
   "outputs": [],
   "source": [
    "root = Path(\"/mnt/fast/data\")"
   ]
  },
  {
   "cell_type": "markdown",
   "id": "bba5d7bf-0535-4962-98a8-1a13779d8f9a",
   "metadata": {
    "jp-MarkdownHeadingCollapsed": true,
    "tags": []
   },
   "source": [
    "# Caption Codes"
   ]
  },
  {
   "cell_type": "code",
   "execution_count": null,
   "id": "d0a9bc5a-1502-4307-963e-8f3ef9132f37",
   "metadata": {},
   "outputs": [],
   "source": [
    "from pytube import YouTube"
   ]
  },
  {
   "cell_type": "code",
   "execution_count": null,
   "id": "d9f2fc0e-7bba-40a7-8ef7-f308a81279d3",
   "metadata": {},
   "outputs": [],
   "source": [
    "videos = json.loads(Path(\"data/videos.json\").read_text())"
   ]
  },
  {
   "cell_type": "code",
   "execution_count": null,
   "id": "1a276925-78b3-43af-a383-ea93ccd414d7",
   "metadata": {},
   "outputs": [],
   "source": [
    "codes = {}\n",
    "for key, url in videos.items():\n",
    "    video = YouTube(url)    \n",
    "    codes[key] = tuple(caption.code for caption in video.captions)"
   ]
  },
  {
   "cell_type": "code",
   "execution_count": null,
   "id": "02612530-1479-438f-ae1f-9309db6f183d",
   "metadata": {},
   "outputs": [],
   "source": [
    "keys = list(videos)"
   ]
  },
  {
   "cell_type": "code",
   "execution_count": null,
   "id": "347aedbc-352e-48d0-ae43-382d706d11b8",
   "metadata": {},
   "outputs": [],
   "source": [
    "Path(\"data/codes.json\").write_text(json.dumps(codes))"
   ]
  },
  {
   "cell_type": "markdown",
   "id": "878be387-5ee8-4cb4-8255-b1157e23c5c3",
   "metadata": {},
   "source": [
    "# Reading JSON and XML Captions"
   ]
  },
  {
   "cell_type": "code",
   "execution_count": null,
   "id": "b0476a95-b605-4dbe-bc13-74ab86b34ce7",
   "metadata": {},
   "outputs": [],
   "source": [
    "def read_xml(fn: Path):\n",
    "    buf = io.StringIO(fn.read_text())\n",
    "    tree = ElementTree.parse(buf).getroot()\n",
    "    segments = []\n",
    "    for segment in tree.findall(\"body/p\"):\n",
    "        start, delta = [int(segment.attrib[k]) for k in (\"t\", \"d\")]\n",
    "        text = segment.text.replace(\"\\n\", \" \").strip()\n",
    "        segments.append({\"start\": start, \"end\": start+delta, \"text\": text})\n",
    "    return segments"
   ]
  },
  {
   "cell_type": "code",
   "execution_count": null,
   "id": "4d5b5bca-6f27-4207-a9ed-ce714a9982c9",
   "metadata": {},
   "outputs": [],
   "source": [
    "def read_json(fn: Path):\n",
    "    return [\n",
    "        {\n",
    "            k: segment[k] if k == \"text\" else int(segment[k])*1000 \n",
    "            for k in (\"start\", \"end\", \"text\")\n",
    "        } \n",
    "        for segment in json.loads(fn.read_text())\n",
    "    ]"
   ]
  },
  {
   "cell_type": "code",
   "execution_count": null,
   "id": "61901572-972a-4dbe-bb53-15eda335746b",
   "metadata": {},
   "outputs": [],
   "source": [
    "def to_text(segments: list) -> str:\n",
    "    return \" \".join([x[\"text\"].strip() for x in segments])"
   ]
  },
  {
   "cell_type": "code",
   "execution_count": null,
   "id": "5faf83cf-66ee-489c-952d-2bf67971503b",
   "metadata": {},
   "outputs": [],
   "source": [
    "@dataclass\n",
    "class Transcript:\n",
    "    title: str\n",
    "    reference: list\n",
    "    whisper: list\n",
    "    \n",
    "    def get_a(self, index): return self.reference[index][\"text\"]\n",
    "\n",
    "    def get_b(self, index): return self.whisper[index][\"text\"]\n",
    "    \n",
    "    def to_text(self):\n",
    "        return to_text(self.reference), to_text(self.whisper)\n",
    "    \n",
    "    def __repr__(self):\n",
    "        return f\"Transcript(title='{self.title}', n={len(self.reference)}, m={len(self.whisper)})\"\n",
    "\n",
    "@dataclass\n",
    "class TranscriptStorage:\n",
    "    root: Path\n",
    "    subdirs: tuple[str, str]\n",
    "    keys: list = field(init=False)\n",
    "    parsed: list = field(init=False)\n",
    "    manual: list = field(init=False)\n",
    "    \n",
    "    def __post_init__(self):\n",
    "        parsed, manual = self.subdirs\n",
    "        self.parsed = get_files(self.root/parsed, \"json\")\n",
    "        self.manual = get_files(self.root/manual, \"xml\")\n",
    "        self.keys = sorted(self.manual)\n",
    "        \n",
    "    def __len__(self): return len(self.keys)\n",
    "    \n",
    "    def get(self, item) -> Transcript:\n",
    "        key = item if isinstance(item, str) else self.keys[item]\n",
    "        ref = read_xml(self.manual[key])\n",
    "        cleaned_key = \"\".join([c for c in key if c not in \":;,#\"])\n",
    "        new = read_json(self.parsed[cleaned_key])\n",
    "        return Transcript(key, ref, new)"
   ]
  },
  {
   "cell_type": "code",
   "execution_count": null,
   "id": "acca932d-dfe4-43cc-80fd-b0519e59d5c5",
   "metadata": {},
   "outputs": [],
   "source": [
    "from fastprogress import progress_bar\n",
    "\n",
    "model_names = \"base_en\", \"small_en\"\n",
    "\n",
    "for name in progress_bar(model_names):\n",
    "    storage = TranscriptStorage(root, (f\"lectures_parsed_{name}\", \"lectures\"))\n",
    "    n_total = len(storage)\n",
    "    texts_dir = Path(f\"/mnt/fast/data/texts/{name}\")\n",
    "    texts_dir.mkdir(exist_ok=True, parents=True)\n",
    "\n",
    "    for i in progress_bar(range(n_total)):\n",
    "        tr = storage.get(i)\n",
    "        ref, new = tr.to_text()\n",
    "        content = json.dumps({\"title\": tr.title, \"ref\": ref, \"new\": new})\n",
    "        texts_dir.joinpath(f\"{tr.title}.json\").write_text(content)"
   ]
  },
  {
   "cell_type": "code",
   "execution_count": null,
   "id": "2ab19c62-a496-40ad-b78c-269b1942fd7e",
   "metadata": {},
   "outputs": [],
   "source": [
    "!ls -1 /mnt/fast/data/texts/base_en | wc -l"
   ]
  },
  {
   "cell_type": "code",
   "execution_count": null,
   "id": "b9071a87-b145-4c4a-bfc6-ef5b72a1971c",
   "metadata": {},
   "outputs": [],
   "source": [
    "!ls -1 /mnt/fast/data/texts/small_en | wc -l"
   ]
  }
 ],
 "metadata": {
  "kernelspec": {
   "display_name": "Python 3 (ipykernel)",
   "language": "python",
   "name": "python3"
  },
  "language_info": {
   "codemirror_mode": {
    "name": "ipython",
    "version": 3
   },
   "file_extension": ".py",
   "mimetype": "text/x-python",
   "name": "python",
   "nbconvert_exporter": "python",
   "pygments_lexer": "ipython3",
   "version": "3.9.5"
  }
 },
 "nbformat": 4,
 "nbformat_minor": 5
}
